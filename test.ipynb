{
  "nbformat": 4,
  "nbformat_minor": 0,
  "metadata": {
    "colab": {
      "provenance": [],
      "authorship_tag": "ABX9TyPWe1gpNzFB/Uh5TnFBM7yd",
      "include_colab_link": true
    },
    "kernelspec": {
      "name": "python3",
      "display_name": "Python 3"
    },
    "language_info": {
      "name": "python"
    },
    "accelerator": "GPU",
    "gpuClass": "standard"
  },
  "cells": [
    {
      "cell_type": "markdown",
      "metadata": {
        "id": "view-in-github",
        "colab_type": "text"
      },
      "source": [
        "<a href=\"https://colab.research.google.com/github/JRgreatest/Automated-Teller-Machine/blob/master/test.ipynb\" target=\"_parent\"><img src=\"https://colab.research.google.com/assets/colab-badge.svg\" alt=\"Open In Colab\"/></a>"
      ]
    },
    {
      "cell_type": "code",
      "source": [
        "#take_photo에 대한 정의 파트, 코랩에선 서버에 사진이나 영상을 저장함\n",
        "from IPython.display import display, Javascript, Image\n",
        "from google.colab.output import eval_js\n",
        "from base64 import b64decode, b64encode\n",
        "\n",
        "def take_photo(filename='photo1.jpg', quality=0.8):\n",
        "  js = Javascript('''\n",
        "    async function takePhoto(quality) {\n",
        "      const div = document.createElement('div');\n",
        "      //캡쳐 버튼의 생성부분\n",
        "      const capture = document.createElement('button');\n",
        "      capture.textContent = 'Capture';\n",
        "      div.appendChild(capture);\n",
        "\n",
        "      const video = document.createElement('video');\n",
        "      video.style.display = 'block';\n",
        "      const stream = await navigator.mediaDevices.getUserMedia({video: true});\n",
        "\n",
        "      document.body.appendChild(div);\n",
        "      div.appendChild(video);\n",
        "      video.srcObject = stream;\n",
        "      await video.play();\n",
        "\n",
        "      // Resize the output to fit the video element.\n",
        "      google.colab.output.setIframeHeight(document.documentElement.scrollHeight, true);\n",
        "\n",
        "      // Wait for Capture to be clicked.\n",
        "      await new Promise((resolve) => capture.onclick = resolve);\n",
        "      //cavas 생성성\n",
        "      const canvas = document.createElement('canvas');\n",
        "      //크기 맞추기기\n",
        "      canvas.width = video.videoWidth;\n",
        "      canvas.height = video.videoHeight;\n",
        "      //이미지 그리기기\n",
        "      canvas.getContext('2d').drawImage(video, 0, 0);\n",
        "      //비디오 끄기기\n",
        "      stream.getVideoTracks()[0].stop();\n",
        "      //div삭제제\n",
        "      div.remove();\n",
        "      //파일 주소 반환환\n",
        "      return canvas.toDataURL('image/jpeg', quality);\n",
        "    }\n",
        "    ''')\n",
        "  display(js)\n",
        "  #코드 실행한 결과 반환 값을 파이썬에 전달달\n",
        "  data = eval_js('takePhoto({})'.format(quality))\n",
        "  #웹 브라우저에서 데이터를 저장할 때 base64로 저장장\n",
        "  binary = b64decode(data.split(',')[1])\n",
        "  with open(filename, 'wb') as f:\n",
        "    f.write(binary)\n",
        "  return filename"
      ],
      "metadata": {
        "id": "l_Aq1XZ8-F7f"
      },
      "execution_count": 1,
      "outputs": []
    },
    {
      "cell_type": "code",
      "source": [
        "from IPython.display import Image\n",
        "try:\n",
        "    #위에 저장된 def파트의 이름을 적는 것것\n",
        "    filename = take_photo()\n",
        "    print('Saved to {}'.format(filename))\n",
        "    \n",
        "    #가져온 이미지 보여주기\n",
        "    display(Image(filename))\n",
        "    #에러시 출력 파트\n",
        "except Exception as err:\n",
        "  print(str(err))\n"
      ],
      "metadata": {
        "id": "5tKAXhmNhBbB"
      },
      "execution_count": null,
      "outputs": []
    },
    {
      "cell_type": "code",
      "execution_count": null,
      "metadata": {
        "id": "moT4GJEon2nj"
      },
      "outputs": [],
      "source": [
        "import cv2\n",
        "\n",
        "capture = cv2.VideoCapture(0) #0번 카메라, 외부 카메라 있으면 1번 2번 이런식\n",
        "if capture.isOpened() == False: raise Exception('카메라 연결 안됨')\n",
        "\n",
        "fps = 29.97\n",
        "delay = round(1000/fps)\n",
        "size = (640,360)\n",
        "fourcc = cv2.VideoWriter_fourcc(*'DX50')\n",
        "\n",
        "print('width * height:',size)\n",
        "print('VideoWriterfourcc: %s' % fourcc)\n",
        "print('delay: %2d ms' % delay)\n",
        "print('fps : %.2f' % fps)\n",
        "\n",
        "capture.set(cv2.CAP_PROP_ZOOM, 1)\n",
        "capture.set(cv2.CAP_PROP_FOCUS, 0)\n",
        "capture.set(cv2.CAP_PROP_FRAME_WIDTH, size[0])\n",
        "capture.set(cv2.CAP_PROP_FRAME_HEIGHT, size[1])\n",
        "\n",
        "writer = cv2.VideoWriter(\"C:/Users/KIM/PycharmProjects/Drone/video/test.avi\", fourcc, fps, size)#경로 설정 및 저장 이름\n",
        "if writer.isOpened() == False: raise Exception('동영상 오픈 안됨')\n",
        "\n",
        "while True:\n",
        "    ret, frame = capture.read()\n",
        "    if not ret : break\n",
        "    if cv2.waitKey(delay) >= 0: break\n",
        "\n",
        "    writer.write(frame)\n",
        "    cv2.imshow(\"test\", frame)\n",
        "\n",
        "writer.release()\n",
        "capture.release()"
      ]
    }
  ]
}